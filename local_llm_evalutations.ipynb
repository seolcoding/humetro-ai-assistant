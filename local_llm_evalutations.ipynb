{
 "cells": [
  {
   "cell_type": "code",
   "execution_count": 2,
   "metadata": {},
   "outputs": [
    {
     "ename": "ModuleNotFoundError",
     "evalue": "No module named 'langchain_community'",
     "output_type": "error",
     "traceback": [
      "\u001b[31m---------------------------------------------------------------------------\u001b[39m",
      "\u001b[31mModuleNotFoundError\u001b[39m                       Traceback (most recent call last)",
      "\u001b[36mCell\u001b[39m\u001b[36m \u001b[39m\u001b[32mIn[2]\u001b[39m\u001b[32m, line 1\u001b[39m\n\u001b[32m----> \u001b[39m\u001b[32m1\u001b[39m \u001b[38;5;28;01mfrom\u001b[39;00m\u001b[38;5;250m \u001b[39m\u001b[34;01mlangchain_community\u001b[39;00m\u001b[34;01m.\u001b[39;00m\u001b[34;01mdocument_loaders\u001b[39;00m\u001b[38;5;250m \u001b[39m\u001b[38;5;28;01mimport\u001b[39;00m DirectoryLoader, MarkdownLoader\n\u001b[32m      2\u001b[39m \u001b[38;5;28;01mfrom\u001b[39;00m\u001b[38;5;250m \u001b[39m\u001b[34;01mlangchain_core\u001b[39;00m\u001b[34;01m.\u001b[39;00m\u001b[34;01mdocuments\u001b[39;00m\u001b[38;5;250m \u001b[39m\u001b[38;5;28;01mimport\u001b[39;00m Document\n\u001b[32m      3\u001b[39m \u001b[38;5;28;01mfrom\u001b[39;00m\u001b[38;5;250m \u001b[39m\u001b[34;01mtyping\u001b[39;00m\u001b[38;5;250m \u001b[39m\u001b[38;5;28;01mimport\u001b[39;00m List\n",
      "\u001b[31mModuleNotFoundError\u001b[39m: No module named 'langchain_community'"
     ]
    }
   ],
   "source": [
    "from langchain_community.document_loaders import DirectoryLoader, MarkdownLoader\n",
    "from langchain_core.documents import Document\n",
    "from typing import List\n",
    "import os\n",
    "\n",
    "def load_documents(doc_dir: str) -> List[Document]:\n",
    "    \"\"\"\n",
    "    특정 디렉토리에서 마크다운 문서를 로드합니다.\n",
    "    \n",
    "    Args:\n",
    "        doc_dir: 마크다운 문서가 있는 디렉토리 경로\n",
    "    \n",
    "    Returns:\n",
    "        문서 리스트\n",
    "    \"\"\"\n",
    "    try:\n",
    "        # 마크다운 로더 생성\n",
    "        loader = DirectoryLoader(\n",
    "            doc_dir, \n",
    "            glob=\"**/*.md\",  # 마크다운 파일만 로드\n",
    "            loader_cls=MarkdownLoader,\n",
    "            show_progress=True,\n",
    "            recursive=True  # 하위 디렉토리도 검색\n",
    "        )\n",
    "        \n",
    "        # 문서 로드\n",
    "        documents = loader.load()\n",
    "        \n",
    "        print(f\"로드된 문서 수: {len(documents)}\")\n",
    "        \n",
    "        # 파일 이름을 metadata에 추가\n",
    "        for doc in documents:\n",
    "            if \"source\" in doc.metadata:\n",
    "                doc.metadata[\"filename\"] = os.path.basename(doc.metadata[\"source\"])\n",
    "        \n",
    "        return documents\n",
    "    \n",
    "    except Exception as e:\n",
    "        print(f\"문서 로드 중 오류 발생: {e}\")\n",
    "        return []"
   ]
  }
 ],
 "metadata": {
  "kernelspec": {
   "display_name": ".venv",
   "language": "python",
   "name": "python3"
  },
  "language_info": {
   "codemirror_mode": {
    "name": "ipython",
    "version": 3
   },
   "file_extension": ".py",
   "mimetype": "text/x-python",
   "name": "python",
   "nbconvert_exporter": "python",
   "pygments_lexer": "ipython3",
   "version": "3.12.1"
  }
 },
 "nbformat": 4,
 "nbformat_minor": 2
}
