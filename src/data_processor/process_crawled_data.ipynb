{
 "cells": [
  {
   "cell_type": "code",
   "execution_count": 2,
   "metadata": {},
   "outputs": [],
   "source": [
    "import sys\n",
    "from pathlib import Path\n",
    "\n",
    "ROOT_DIR = Path.cwd().parent.parent\n",
    "sys.path.append(ROOT_DIR)"
   ]
  },
  {
   "cell_type": "code",
   "execution_count": 4,
   "metadata": {},
   "outputs": [
    {
     "name": "stdout",
     "output_type": "stream",
     "text": [
      "총 57개의 마크다운 파일을 찾았습니다.\n",
      "\n",
      "파일명: 에스컬레이터 목록  교통약자 배려시설  이용안내  부산교통공사.md | 경로: datasets/Rag_Docs/에스컬레이터 목록  교통약자 배려시설  이용안내  부산교통공사.md | 토큰 길이: 1306\n",
      "파일명: 만남의 장소 목록  편의시설  이용안내  부산교통공사_list02.do?gubun=1&menu_no=1001010801.md | 경로: datasets/Rag_Docs/만남의 장소 목록  편의시설  이용안내  부산교통공사_list02.do?gubun=1&menu_no=1001010801.md | 토큰 길이: 1669\n",
      "파일명: 긴급상황 대피요령  긴급상황 대피요령  도시철도 이용  이용안내  부산교통공사.md | 경로: datasets/Rag_Docs/긴급상황 대피요령  긴급상황 대피요령  도시철도 이용  이용안내  부산교통공사.md | 토큰 길이: 6253\n",
      "파일명: 전동휠체어 급속충전기 목록  교통약자 배려시설  이용안내  부산교통공사.md | 경로: datasets/Rag_Docs/전동휠체어 급속충전기 목록  교통약자 배려시설  이용안내  부산교통공사.md | 토큰 길이: 2548\n",
      "파일명: 엘리베이터 목록  교통약자 배려시설  이용안내  부산교통공사_list.do?gubun=2&menu_no=1001010702.md | 경로: datasets/Rag_Docs/엘리베이터 목록  교통약자 배려시설  이용안내  부산교통공사_list.do?gubun=2&menu_no=1001010702.md | 토큰 길이: 1912\n",
      "파일명: 엘리베이터 목록  교통약자 배려시설  이용안내  부산교통공사.md | 경로: datasets/Rag_Docs/엘리베이터 목록  교통약자 배려시설  이용안내  부산교통공사.md | 토큰 길이: 1912\n",
      "파일명: 부산교통공사.md | 경로: datasets/Rag_Docs/부산교통공사.md | 토큰 길이: 1\n",
      "파일명: 연결 통로  편의시설  이용안내  부산교통공사.md | 경로: datasets/Rag_Docs/연결 통로  편의시설  이용안내  부산교통공사.md | 토큰 길이: 1500\n",
      "파일명: 여객운송약관  운임 정보  이용안내  부산교통공사.md | 경로: datasets/Rag_Docs/여객운송약관  운임 정보  이용안내  부산교통공사.md | 토큰 길이: 18061\n",
      "파일명: 무인 민원발급기  편의시설  이용안내  부산교통공사.md | 경로: datasets/Rag_Docs/무인 민원발급기  편의시설  이용안내  부산교통공사.md | 토큰 길이: 1301\n",
      "파일명: 노선도 다운로드  노선도  이용안내  부산교통공사_subLocation.do?menu_no=1001010102.md | 경로: datasets/Rag_Docs/노선도 다운로드  노선도  이용안내  부산교통공사_subLocation.do?menu_no=1001010102.md | 토큰 길이: 385\n",
      "파일명: 일타역무 교재_2023_10.md | 경로: datasets/Rag_Docs/일타역무 교재_2023_10.md | 토큰 길이: 100671\n",
      "파일명: - 부산교통공사 통합검색_Search.jsp.md | 경로: datasets/Rag_Docs/- 부산교통공사 통합검색_Search.jsp.md | 토큰 길이: 1\n",
      "파일명: 이용 안내  유아용 교통카드  승차권 예약  이용안내  부산교통공사.md | 경로: datasets/Rag_Docs/이용 안내  유아용 교통카드  승차권 예약  이용안내  부산교통공사.md | 토큰 길이: 1337\n",
      "파일명: 승차권 구입  승차권의 종류 및 사용방법  도시철도 이용  이용안내  부산교통공사.md | 경로: datasets/Rag_Docs/승차권 구입  승차권의 종류 및 사용방법  도시철도 이용  이용안내  부산교통공사.md | 토큰 길이: 3022\n",
      "파일명: 사이버스테이션.md | 경로: datasets/Rag_Docs/사이버스테이션.md | 토큰 길이: 1\n",
      "파일명: 로그인  회원정보  부산교통공사.md | 경로: datasets/Rag_Docs/로그인  회원정보  부산교통공사.md | 토큰 길이: 272\n",
      "파일명: 釜山交通公司.md | 경로: datasets/Rag_Docs/釜山交通公司.md | 토큰 길이: 1\n",
      "파일명: 승차권의 종류 및 사용방법  승차권의 종류 및 사용방법  도시철도 이용  이용안내  부산교통공사.md | 경로: datasets/Rag_Docs/승차권의 종류 및 사용방법  승차권의 종류 및 사용방법  도시철도 이용  이용안내  부산교통공사.md | 토큰 길이: 3022\n",
      "파일명: 범죄예방대응과 기동순찰대  편의시설  이용안내  부산교통공사.md | 경로: datasets/Rag_Docs/범죄예방대응과 기동순찰대  편의시설  이용안내  부산교통공사.md | 토큰 길이: 610\n",
      "파일명: 이용 안내  단체 승차권  승차권 예약  이용안내  부산교통공사.md | 경로: datasets/Rag_Docs/이용 안내  단체 승차권  승차권 예약  이용안내  부산교통공사.md | 토큰 길이: 1127\n",
      "파일명: 설치현황  통화장치  편의시설  이용안내  부산교통공사.md | 경로: datasets/Rag_Docs/설치현황  통화장치  편의시설  이용안내  부산교통공사.md | 토큰 길이: 3833\n",
      "파일명: 이용안내  공익 홍보  이용안내  부산교통공사_subLocation.do?menu_no=1001011201.md | 경로: datasets/Rag_Docs/이용안내  공익 홍보  이용안내  부산교통공사_subLocation.do?menu_no=1001011201.md | 토큰 길이: 1222\n",
      "파일명: 주차공간  편의시설  이용안내  부산교통공사.md | 경로: datasets/Rag_Docs/주차공간  편의시설  이용안내  부산교통공사.md | 토큰 길이: 2613\n",
      "파일명: 도시철도 운임  운임 정보  이용안내  부산교통공사.md | 경로: datasets/Rag_Docs/도시철도 운임  운임 정보  이용안내  부산교통공사.md | 토큰 길이: 2444\n",
      "파일명: 물품보관함 목록  편의시설  이용안내  부산교통공사.md | 경로: datasets/Rag_Docs/물품보관함 목록  편의시설  이용안내  부산교통공사.md | 토큰 길이: 2354\n",
      "파일명: 전기차 충전소  편의시설  이용안내  부산교통공사.md | 경로: datasets/Rag_Docs/전기차 충전소  편의시설  이용안내  부산교통공사.md | 토큰 길이: 4045\n",
      "파일명: 열차서행정보 목록  도시철도 운행정보  이용안내  부산교통공사.md | 경로: datasets/Rag_Docs/열차서행정보 목록  도시철도 운행정보  이용안내  부산교통공사.md | 토큰 길이: 797\n",
      "파일명: 만남의 장소 목록  편의시설  이용안내  부산교통공사.md | 경로: datasets/Rag_Docs/만남의 장소 목록  편의시설  이용안내  부산교통공사.md | 토큰 길이: 1669\n",
      "파일명: 열차시각표  도시철도 운행정보  이용안내  부산교통공사.md | 경로: datasets/Rag_Docs/열차시각표  도시철도 운행정보  이용안내  부산교통공사.md | 토큰 길이: 753\n",
      "파일명: 釜山交通公社.md | 경로: datasets/Rag_Docs/釜山交通公社.md | 토큰 길이: 1\n",
      "파일명: 시각장애인 유도로 목록  교통약자 배려시설  이용안내  부산교통공사.md | 경로: datasets/Rag_Docs/시각장애인 유도로 목록  교통약자 배려시설  이용안내  부산교통공사.md | 토큰 길이: 1552\n",
      "파일명: 유실물센터  유실물센터  이용안내  부산교통공사_subLocation.do?menu_no=1001010401.md | 경로: datasets/Rag_Docs/유실물센터  유실물센터  이용안내  부산교통공사_subLocation.do?menu_no=1001010401.md | 토큰 길이: 1188\n",
      "파일명: 장애인 화장실 목록  교통약자 배려시설  이용안내  부산교통공사.md | 경로: datasets/Rag_Docs/장애인 화장실 목록  교통약자 배려시설  이용안내  부산교통공사.md | 토큰 길이: 2043\n",
      "파일명: 이용안내  공익 홍보  이용안내  부산교통공사.md | 경로: datasets/Rag_Docs/이용안내  공익 홍보  이용안내  부산교통공사.md | 토큰 길이: 1222\n",
      "파일명: 여객운송약관_2023.04.01.md | 경로: datasets/Rag_Docs/여객운송약관_2023.04.01.md | 토큰 길이: 11859\n",
      "파일명: 휠체어리프트 목록  교통약자 배려시설  이용안내  부산교통공사.md | 경로: datasets/Rag_Docs/휠체어리프트 목록  교통약자 배려시설  이용안내  부산교통공사.md | 토큰 길이: 457\n",
      "파일명: 수송원가 및 운임결정  운임 정보  이용안내  부산교통공사.md | 경로: datasets/Rag_Docs/수송원가 및 운임결정  운임 정보  이용안내  부산교통공사.md | 토큰 길이: 1398\n",
      "파일명: 외부경사로 목록  교통약자 배려시설  이용안내  부산교통공사.md | 경로: datasets/Rag_Docs/외부경사로 목록  교통약자 배려시설  이용안내  부산교통공사.md | 토큰 길이: 1240\n",
      "파일명: - 부산교통공사 통합검색.md | 경로: datasets/Rag_Docs/- 부산교통공사 통합검색.md | 토큰 길이: 1\n",
      "파일명: 회원정보동의  회원가입  회원정보  부산교통공사.md | 경로: datasets/Rag_Docs/회원정보동의  회원가입  회원정보  부산교통공사.md | 토큰 길이: 3644\n",
      "파일명: 시내 환승운임  환승 운임  운임 정보  이용안내  부산교통공사.md | 경로: datasets/Rag_Docs/시내 환승운임  환승 운임  운임 정보  이용안내  부산교통공사.md | 토큰 길이: 2325\n",
      "파일명: 기본정보  역 정보  이용안내  부산교통공사_list01.do?menu_no=1001010201.md | 경로: datasets/Rag_Docs/기본정보  역 정보  이용안내  부산교통공사_list01.do?menu_no=1001010201.md | 토큰 길이: 1667\n",
      "파일명: 도시철도 운임  운임 정보  이용안내  부산교통공사_subLocation.do?menu_no=1001010501.md | 경로: datasets/Rag_Docs/도시철도 운임  운임 정보  이용안내  부산교통공사_subLocation.do?menu_no=1001010501.md | 토큰 길이: 2444\n",
      "파일명: 자전거 보관소  편의시설  이용안내  부산교통공사.md | 경로: datasets/Rag_Docs/자전거 보관소  편의시설  이용안내  부산교통공사.md | 토큰 길이: 6055\n",
      "파일명: 자동사진기 목록  편의시설  이용안내  부산교통공사.md | 경로: datasets/Rag_Docs/자동사진기 목록  편의시설  이용안내  부산교통공사.md | 토큰 길이: 619\n",
      "파일명: 이용 안내  단체 승차권  승차권 예약  이용안내  부산교통공사_guide.do?menu_no=100101090101.md | 경로: datasets/Rag_Docs/이용 안내  단체 승차권  승차권 예약  이용안내  부산교통공사_guide.do?menu_no=100101090101.md | 토큰 길이: 1127\n",
      "파일명: 유실물센터  유실물센터  이용안내  부산교통공사.md | 경로: datasets/Rag_Docs/유실물센터  유실물센터  이용안내  부산교통공사.md | 토큰 길이: 1188\n",
      "파일명: 열차시각표  도시철도 운행정보  이용안내  부산교통공사_list.do?menu_no=1001010301.md | 경로: datasets/Rag_Docs/열차시각표  도시철도 운행정보  이용안내  부산교통공사_list.do?menu_no=1001010301.md | 토큰 길이: 753\n",
      "파일명: 역무 위키.md | 경로: datasets/Rag_Docs/역무 위키.md | 토큰 길이: 28485\n",
      "파일명: Busan Transportation Corporation.md | 경로: datasets/Rag_Docs/Busan Transportation Corporation.md | 토큰 길이: 1\n",
      "파일명: 스마트 도서관  편의시설  이용안내  부산교통공사.md | 경로: datasets/Rag_Docs/스마트 도서관  편의시설  이용안내  부산교통공사.md | 토큰 길이: 873\n",
      "파일명: 기본정보  역 정보  이용안내  부산교통공사.md | 경로: datasets/Rag_Docs/기본정보  역 정보  이용안내  부산교통공사.md | 토큰 길이: 1667\n",
      "파일명: 모유수유실 목록  교통약자 배려시설  이용안내  부산교통공사.md | 경로: datasets/Rag_Docs/모유수유실 목록  교통약자 배려시설  이용안내  부산교통공사.md | 토큰 길이: 1934\n",
      "파일명: 역세권 정보  역 정보  이용안내  부산교통공사.md | 경로: datasets/Rag_Docs/역세권 정보  역 정보  이용안내  부산교통공사.md | 토큰 길이: 676\n",
      "파일명: 노선도 다운로드  노선도  이용안내  부산교통공사.md | 경로: datasets/Rag_Docs/노선도 다운로드  노선도  이용안내  부산교통공사.md | 토큰 길이: 385\n",
      "파일명: 釜山交通公司_main.do.md | 경로: datasets/Rag_Docs/釜山交通公司_main.do.md | 토큰 길이: 1\n"
     ]
    }
   ],
   "source": [
    "# GPT 토큰 길이 계산을 위한 tiktoken (설치 필요: pip install tiktoken)\n",
    "try:\n",
    "    import tiktoken\n",
    "\n",
    "    enc = tiktoken.encoding_for_model(\"gpt-3.5-turbo\")\n",
    "\n",
    "    def count_tokens(text):\n",
    "        return len(enc.encode(text))\n",
    "except ImportError:\n",
    "\n",
    "    def count_tokens(text):\n",
    "        # fallback: 단어 수\n",
    "        return len(text.split())\n",
    "\n",
    "\n",
    "md_files = list((ROOT_DIR / \"datasets\" / \"Rag_Docs\").rglob(\"*.md\"))\n",
    "\n",
    "print(f\"총 {len(md_files)}개의 마크다운 파일을 찾았습니다.\\n\")\n",
    "\n",
    "for md_file in md_files:\n",
    "    with open(md_file, \"r\", encoding=\"utf-8\") as f:\n",
    "        content = f.read()\n",
    "    tokens = count_tokens(content)\n",
    "    print(\n",
    "        f\"파일명: {md_file.name} | 경로: {md_file.relative_to(ROOT_DIR)} | 토큰 길이: {tokens}\"\n",
    "    )"
   ]
  },
  {
   "cell_type": "code",
   "execution_count": null,
   "metadata": {},
   "outputs": [],
   "source": []
  }
 ],
 "metadata": {
  "kernelspec": {
   "display_name": ".venv",
   "language": "python",
   "name": "python3"
  },
  "language_info": {
   "codemirror_mode": {
    "name": "ipython",
    "version": 3
   },
   "file_extension": ".py",
   "mimetype": "text/x-python",
   "name": "python",
   "nbconvert_exporter": "python",
   "pygments_lexer": "ipython3",
   "version": "3.12.7"
  }
 },
 "nbformat": 4,
 "nbformat_minor": 2
}
