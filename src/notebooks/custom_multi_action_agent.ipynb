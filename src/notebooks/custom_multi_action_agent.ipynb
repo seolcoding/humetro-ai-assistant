{
 "cells": [
  {
   "cell_type": "markdown",
   "metadata": {},
   "source": [
    "https://python.langchain.com/docs/modules/agents/how_to/custom_multi_action_agent\n"
   ]
  },
  {
   "cell_type": "code",
   "execution_count": 1,
   "metadata": {},
   "outputs": [],
   "source": [
    "from dotenv import load_dotenv, find_dotenv\n",
    "\n",
    "_ = load_dotenv(find_dotenv())"
   ]
  },
  {
   "cell_type": "code",
   "execution_count": 25,
   "metadata": {},
   "outputs": [],
   "source": [
    "from langchain.utilities import SerpAPIWrapper\n",
    "from langchain.agents import Tool, AgentExecutor, BaseMultiActionAgent\n",
    "import langchain\n",
    "\n",
    "langchain.debug = True"
   ]
  },
  {
   "cell_type": "code",
   "execution_count": 27,
   "metadata": {},
   "outputs": [],
   "source": [
    "def random_word(query: str) -> str:\n",
    "    print(f\"\\nNow i'm doing this with this querty {query}\")\n",
    "    return \"Foo\""
   ]
  },
  {
   "cell_type": "code",
   "execution_count": 26,
   "metadata": {},
   "outputs": [],
   "source": [
    "search = SerpAPIWrapper()\n",
    "search_tool = Tool(\n",
    "    name=\"Search\",\n",
    "    func=search.run,\n",
    "    description=\"Useful for when you need answer questions about current events or facts.\",\n",
    ")\n",
    "\n",
    "random_word = Tool(\n",
    "    name=\"RandomWord\", func=random_word, description=\"call this to ge a random word.\"\n",
    ")\n",
    "tools = [search_tool, random_word]"
   ]
  },
  {
   "cell_type": "code",
   "execution_count": 35,
   "metadata": {},
   "outputs": [],
   "source": [
    "from typing import List, Tuple, Any, Union\n",
    "from langchain.schema import AgentAction, AgentFinish\n",
    "\n",
    "\n",
    "class FakeAgent(BaseMultiActionAgent):\n",
    "    \"\"\"Fake Custom Agent.\"\"\"\n",
    "\n",
    "    @property\n",
    "    def input_keys(self):\n",
    "        return [\"input\"]\n",
    "\n",
    "    def plan(\n",
    "        self, intermediate_steps: List[Tuple[AgentAction, str]], **kwargs: Any\n",
    "    ) -> Union[List[AgentAction], AgentFinish]:\n",
    "        \"\"\"Given input, decided what to do.\n",
    "        Args:\n",
    "            intermediate_steps: Steps the LLM has taken to date, along with observations\n",
    "            ** kwargs: User inputs.\n",
    "        Returns:\n",
    "            Actions specifying what tool to use.\n",
    "        \"\"\"\n",
    "        print(\"intermediate_steps\", intermediate_steps)\n",
    "        if len(intermediate_steps) == 0:\n",
    "            return [\n",
    "                AgentAction(tool=\"Search\", tool_input=kwargs[\"input\"], log=\"\"),\n",
    "                AgentAction(tool=\"RandomWord\", tool_input=kwargs[\"input\"], log=\"\"),\n",
    "            ]\n",
    "        else:\n",
    "            return AgentFinish(\n",
    "                return_values={\"output\": \"intermediate_step length > 0\"}, log=\"\"\n",
    "            )\n",
    "\n",
    "    async def aplan(\n",
    "        self, intermediate_steps: List[Tuple[AgentAction, str]], **kwargs: Any\n",
    "    ) -> Union[List[AgentAction], AgentFinish]:\n",
    "        \"\"\"Given input, decided what to do.\n",
    "\n",
    "        Args:\n",
    "            intermediate_steps: Steps the LLM has taken to date,\n",
    "                along with observations\n",
    "            **kwargs: User inputs.\n",
    "\n",
    "        Returns:\n",
    "            Action specifying what tool to use.\n",
    "        \"\"\"\n",
    "        print(\"intermediate_steps\", intermediate_steps)\n",
    "        if len(intermediate_steps) == 0:\n",
    "            return [\n",
    "                AgentAction(tool=\"Search\", tool_input=kwargs[\"input\"], log=\"\"),\n",
    "                AgentAction(tool=\"RandomWord\", tool_input=kwargs[\"input\"], log=\"\"),\n",
    "            ]\n",
    "        else:\n",
    "            return AgentFinish(return_values={\"output\": \"bar\"}, log=\"\")"
   ]
  },
  {
   "cell_type": "code",
   "execution_count": 34,
   "metadata": {},
   "outputs": [],
   "source": [
    "agent = FakeAgent()\n",
    "agent_executor = AgentExecutor.from_agent_and_tools(\n",
    "    agent=agent, tools=tools, verbose=True\n",
    ")"
   ]
  },
  {
   "cell_type": "code",
   "execution_count": 36,
   "metadata": {},
   "outputs": [
    {
     "name": "stdout",
     "output_type": "stream",
     "text": [
      "\u001b[32;1m\u001b[1;3m[chain/start]\u001b[0m \u001b[1m[1:chain:AgentExecutor] Entering Chain run with input:\n",
      "\u001b[0m{\n",
      "  \"input\": \"How many people live in canada as of 2023?\"\n",
      "}\n",
      "[]\n",
      "\u001b[32;1m\u001b[1;3m[tool/start]\u001b[0m \u001b[1m[1:chain:AgentExecutor > 2:tool:Search] Entering Tool run with input:\n",
      "\u001b[0m\"How many people live in canada as of 2023?\"\n",
      "\u001b[36;1m\u001b[1;3m[tool/end]\u001b[0m \u001b[1m[1:chain:AgentExecutor > 2:tool:Search] [149ms] Exiting Tool run with output:\n",
      "\u001b[0m\"38,781,291 people\"\n",
      "\u001b[32;1m\u001b[1;3m[tool/start]\u001b[0m \u001b[1m[1:chain:AgentExecutor > 3:tool:RandomWord] Entering Tool run with input:\n",
      "\u001b[0m\"How many people live in canada as of 2023?\"\n",
      "\u001b[32;1m\u001b[1;3m[tool/start]\u001b[0m \u001b[1m[1:chain:AgentExecutor > 3:tool:RandomWord > 4:tool:RandomWord] Entering Tool run with input:\n",
      "\u001b[0m\"How many people live in canada as of 2023?\"\n",
      "\n",
      "Now i'm doing this with this querty How many people live in canada as of 2023?\n",
      "\u001b[36;1m\u001b[1;3m[tool/end]\u001b[0m \u001b[1m[1:chain:AgentExecutor > 3:tool:RandomWord > 4:tool:RandomWord] [0ms] Exiting Tool run with output:\n",
      "\u001b[0m\"Foo\"\n",
      "\u001b[36;1m\u001b[1;3m[tool/end]\u001b[0m \u001b[1m[1:chain:AgentExecutor > 3:tool:RandomWord] [0ms] Exiting Tool run with output:\n",
      "\u001b[0m\"Foo\"\n",
      "[(AgentAction(tool='Search', tool_input='How many people live in canada as of 2023?', log=''), '38,781,291 people'), (AgentAction(tool='RandomWord', tool_input='How many people live in canada as of 2023?', log=''), 'Foo')]\n",
      "\u001b[36;1m\u001b[1;3m[chain/end]\u001b[0m \u001b[1m[1:chain:AgentExecutor] [149ms] Exiting Chain run with output:\n",
      "\u001b[0m{\n",
      "  \"output\": \"intermediate_step length > 0\"\n",
      "}\n"
     ]
    },
    {
     "data": {
      "text/plain": [
       "'intermediate_step length > 0'"
      ]
     },
     "execution_count": 36,
     "metadata": {},
     "output_type": "execute_result"
    }
   ],
   "source": [
    "agent_executor.run(\"How many people live in canada as of 2023?\")"
   ]
  },
  {
   "cell_type": "code",
   "execution_count": null,
   "metadata": {},
   "outputs": [],
   "source": []
  },
  {
   "cell_type": "code",
   "execution_count": null,
   "metadata": {},
   "outputs": [],
   "source": []
  },
  {
   "cell_type": "code",
   "execution_count": null,
   "metadata": {},
   "outputs": [],
   "source": []
  }
 ],
 "metadata": {
  "kernelspec": {
   "display_name": "haa",
   "language": "python",
   "name": "python3"
  },
  "language_info": {
   "codemirror_mode": {
    "name": "ipython",
    "version": 3
   },
   "file_extension": ".py",
   "mimetype": "text/x-python",
   "name": "python",
   "nbconvert_exporter": "python",
   "pygments_lexer": "ipython3",
   "version": "3.10.13"
  }
 },
 "nbformat": 4,
 "nbformat_minor": 2
}
