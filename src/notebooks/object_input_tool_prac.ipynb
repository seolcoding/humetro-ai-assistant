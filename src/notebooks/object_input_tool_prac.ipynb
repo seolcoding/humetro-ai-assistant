{
  "cells": [
    {
      "cell_type": "code",
      "execution_count": 16,
      "metadata": {},
      "outputs": [],
      "source": [
        "import os\n",
        "import openai\n",
        "\n",
        "from dotenv import load_dotenv, find_dotenv\n",
        "_ = load_dotenv(find_dotenv())  # read local .env file\n",
        "openai.api_key = os.environ['OPENAI_API_KEY']"
      ]
    },
    {
      "cell_type": "code",
      "execution_count": 34,
      "metadata": {},
      "outputs": [],
      "source": [
        "from langchain.agents import tool\n",
        "from langchain.tools import BaseTool\n",
        "from typing import Optional, Type\n",
        "from langchain.agents import initialize_agent, Tool\n",
        "from langchain.agents import AgentType\n",
        "from langchain.chat_models import ChatOpenAI\n",
        "\n",
        "from pydantic import BaseModel, Field"
      ]
    },
    {
      "cell_type": "code",
      "execution_count": 20,
      "metadata": {},
      "outputs": [],
      "source": [
        "class SearchInput(BaseModel):\n",
        "    query: str = Field(description=\"Thing to search for\")"
      ]
    },
    {
      "cell_type": "code",
      "execution_count": 21,
      "metadata": {},
      "outputs": [
        {
          "data": {
            "text/plain": [
              "{'query': {'title': 'Query', 'type': 'string'}}"
            ]
          },
          "execution_count": 21,
          "metadata": {},
          "output_type": "execute_result"
        }
      ],
      "source": [
        "@tool()\n",
        "def search(query: str) -> str:\n",
        "    \"\"\"Search for the weather online.\"\"\"\n",
        "    return \"42f\"\n",
        "\n",
        "\n",
        "search.args"
      ]
    },
    {
      "cell_type": "code",
      "execution_count": 57,
      "metadata": {},
      "outputs": [],
      "source": [
        "from langchain.tools import BaseTool\n",
        "from typing import Optional, Type\n",
        "\n",
        "from pydantic import BaseModel, Field\n",
        "\n",
        "\n",
        "class RouteInfo(BaseModel):\n",
        "    start: str = Field(default=\"busan\",\n",
        "                       description=\"Starting location, use busan if not specified\")\n",
        "    end: str = Field(description=\"Ending location\")\n",
        "\n",
        "\n",
        "class RoutingInput(BaseModel):\n",
        "    route_object: RouteInfo = Field(\n",
        "        description=\"Object containing route information, if start is not specified, use busan\")\n",
        "\n",
        "\n",
        "class RouteTool(BaseTool):\n",
        "    name = \"get_route_from_start_to_end\"\n",
        "    description = \"Get route from start to end\"\n",
        "\n",
        "    def _run(self, route_object: RoutingInput):\n",
        "        # print(\"i'm running\")\n",
        "        print(route_object)\n",
        "        return route_object['start'] + \" to \" + route_object['end']\n",
        "    args_schema: Optional[Type[BaseModel]] = RoutingInput"
      ]
    },
    {
      "cell_type": "code",
      "execution_count": 60,
      "metadata": {},
      "outputs": [
        {
          "name": "stdout",
          "output_type": "stream",
          "text": [
            "\u001b[32;1m\u001b[1;3m[chain/start]\u001b[0m \u001b[1m[1:chain:AgentExecutor] Entering Chain run with input:\n",
            "\u001b[0m{\n",
            "  \"input\": \"I'm at busan right now. How to get from seoul to Boston?\"\n",
            "}\n",
            "\u001b[32;1m\u001b[1;3m[llm/start]\u001b[0m \u001b[1m[1:chain:AgentExecutor > 2:llm:ChatOpenAI] Entering LLM run with input:\n",
            "\u001b[0m{\n",
            "  \"prompts\": [\n",
            "    \"System: You are a helpful AI assistant.\\nHuman: I'm at busan right now. How to get from seoul to Boston?\"\n",
            "  ]\n",
            "}\n",
            "\u001b[36;1m\u001b[1;3m[llm/end]\u001b[0m \u001b[1m[1:chain:AgentExecutor > 2:llm:ChatOpenAI] [1.28s] Exiting LLM run with output:\n",
            "\u001b[0m{\n",
            "  \"generations\": [\n",
            "    [\n",
            "      {\n",
            "        \"text\": \"\",\n",
            "        \"generation_info\": {\n",
            "          \"finish_reason\": \"function_call\"\n",
            "        },\n",
            "        \"message\": {\n",
            "          \"lc\": 1,\n",
            "          \"type\": \"constructor\",\n",
            "          \"id\": [\n",
            "            \"langchain\",\n",
            "            \"schema\",\n",
            "            \"messages\",\n",
            "            \"AIMessage\"\n",
            "          ],\n",
            "          \"kwargs\": {\n",
            "            \"content\": \"\",\n",
            "            \"additional_kwargs\": {\n",
            "              \"function_call\": {\n",
            "                \"name\": \"get_route_from_start_to_end\",\n",
            "                \"arguments\": \"{\\n  \\\"route_object\\\": {\\n    \\\"start\\\": \\\"seoul\\\",\\n    \\\"end\\\": \\\"boston\\\"\\n  }\\n}\"\n",
            "              }\n",
            "            }\n",
            "          }\n",
            "        }\n",
            "      }\n",
            "    ]\n",
            "  ],\n",
            "  \"llm_output\": {\n",
            "    \"token_usage\": {\n",
            "      \"prompt_tokens\": 101,\n",
            "      \"completion_tokens\": 36,\n",
            "      \"total_tokens\": 137\n",
            "    },\n",
            "    \"model_name\": \"gpt-4o-mini-0613\"\n",
            "  },\n",
            "  \"run\": null\n",
            "}\n",
            "\u001b[32;1m\u001b[1;3m[tool/start]\u001b[0m \u001b[1m[1:chain:AgentExecutor > 3:tool:get_route_from_start_to_end] Entering Tool run with input:\n",
            "\u001b[0m\"{'route_object': {'start': 'seoul', 'end': 'boston'}}\"\n",
            "{'start': 'seoul', 'end': 'boston'}\n",
            "\u001b[36;1m\u001b[1;3m[tool/end]\u001b[0m \u001b[1m[1:chain:AgentExecutor > 3:tool:get_route_from_start_to_end] [0ms] Exiting Tool run with output:\n",
            "\u001b[0m\"seoul to boston\"\n",
            "\u001b[32;1m\u001b[1;3m[llm/start]\u001b[0m \u001b[1m[1:chain:AgentExecutor > 4:llm:ChatOpenAI] Entering LLM run with input:\n",
            "\u001b[0m{\n",
            "  \"prompts\": [\n",
            "    \"System: You are a helpful AI assistant.\\nHuman: I'm at busan right now. How to get from seoul to Boston?\\nAI: {'name': 'get_route_from_start_to_end', 'arguments': '{\\\\n  \\\"route_object\\\": {\\\\n    \\\"start\\\": \\\"seoul\\\",\\\\n    \\\"end\\\": \\\"boston\\\"\\\\n  }\\\\n}'}\\nFunction: seoul to boston\"\n",
            "  ]\n",
            "}\n",
            "\u001b[36;1m\u001b[1;3m[llm/end]\u001b[0m \u001b[1m[1:chain:AgentExecutor > 4:llm:ChatOpenAI] [2.76s] Exiting LLM run with output:\n",
            "\u001b[0m{\n",
            "  \"generations\": [\n",
            "    [\n",
            "      {\n",
            "        \"text\": \"To get from Seoul to Boston, you can take the following route:\\n\\n1. Fly from Seoul to Boston. There are several airlines that operate flights between these two cities, including Korean Air, Asiana Airlines, and Delta Air Lines. The flight duration is approximately 13-15 hours, depending on the layovers.\\n\\nPlease note that this information is subject to change and it is recommended to check with the airlines for the most up-to-date schedules and fares.\",\n",
            "        \"generation_info\": {\n",
            "          \"finish_reason\": \"stop\"\n",
            "        },\n",
            "        \"message\": {\n",
            "          \"lc\": 1,\n",
            "          \"type\": \"constructor\",\n",
            "          \"id\": [\n",
            "            \"langchain\",\n",
            "            \"schema\",\n",
            "            \"messages\",\n",
            "            \"AIMessage\"\n",
            "          ],\n",
            "          \"kwargs\": {\n",
            "            \"content\": \"To get from Seoul to Boston, you can take the following route:\\n\\n1. Fly from Seoul to Boston. There are several airlines that operate flights between these two cities, including Korean Air, Asiana Airlines, and Delta Air Lines. The flight duration is approximately 13-15 hours, depending on the layovers.\\n\\nPlease note that this information is subject to change and it is recommended to check with the airlines for the most up-to-date schedules and fares.\",\n",
            "            \"additional_kwargs\": {}\n",
            "          }\n",
            "        }\n",
            "      }\n",
            "    ]\n",
            "  ],\n",
            "  \"llm_output\": {\n",
            "    \"token_usage\": {\n",
            "      \"prompt_tokens\": 154,\n",
            "      \"completion_tokens\": 93,\n",
            "      \"total_tokens\": 247\n",
            "    },\n",
            "    \"model_name\": \"gpt-4o-mini-0613\"\n",
            "  },\n",
            "  \"run\": null\n",
            "}\n",
            "\u001b[36;1m\u001b[1;3m[chain/end]\u001b[0m \u001b[1m[1:chain:AgentExecutor] [4.05s] Exiting Chain run with output:\n",
            "\u001b[0m{\n",
            "  \"output\": \"To get from Seoul to Boston, you can take the following route:\\n\\n1. Fly from Seoul to Boston. There are several airlines that operate flights between these two cities, including Korean Air, Asiana Airlines, and Delta Air Lines. The flight duration is approximately 13-15 hours, depending on the layovers.\\n\\nPlease note that this information is subject to change and it is recommended to check with the airlines for the most up-to-date schedules and fares.\"\n",
            "}\n"
          ]
        },
        {
          "data": {
            "text/plain": [
              "'To get from Seoul to Boston, you can take the following route:\\n\\n1. Fly from Seoul to Boston. There are several airlines that operate flights between these two cities, including Korean Air, Asiana Airlines, and Delta Air Lines. The flight duration is approximately 13-15 hours, depending on the layovers.\\n\\nPlease note that this information is subject to change and it is recommended to check with the airlines for the most up-to-date schedules and fares.'"
            ]
          },
          "execution_count": 60,
          "metadata": {},
          "output_type": "execute_result"
        }
      ],
      "source": [
        "import langchain\n",
        "langchain.debug = True\n",
        "tools = [RouteTool()]\n",
        "\n",
        "llm = ChatOpenAI(temperature=0, model=\"gpt-4o-mini-0613\")\n",
        "open_ai_agent = initialize_agent(tools,\n",
        "                                 llm,\n",
        "                                 agent=AgentType.OPENAI_FUNCTIONS,\n",
        "                                 verbose=True)\n",
        "open_ai_agent.run(\"I'm at busan right now. How to get from seoul to Boston?\")"
      ]
    },
    {
      "cell_type": "code",
      "execution_count": 37,
      "metadata": {},
      "outputs": [
        {
          "data": {
            "text/plain": [
              "{'route_object': {'allOf': [{'$ref': '#/$defs/RouteInfo'}],\n",
              "  'description': 'Object containing route information'}}"
            ]
          },
          "execution_count": 37,
          "metadata": {},
          "output_type": "execute_result"
        }
      ],
      "source": [
        "RouteTool().args"
      ]
    },
    {
      "cell_type": "code",
      "execution_count": null,
      "metadata": {},
      "outputs": [],
      "source": [
        "llm"
      ]
    }
  ],
  "metadata": {
    "kernelspec": {
      "display_name": "haa",
      "language": "python",
      "name": "python3"
    },
    "language_info": {
      "codemirror_mode": {
        "name": "ipython",
        "version": 3
      },
      "file_extension": ".py",
      "mimetype": "text/x-python",
      "name": "python",
      "nbconvert_exporter": "python",
      "pygments_lexer": "ipython3",
      "version": "3.10.13"
    }
  },
  "nbformat": 4,
  "nbformat_minor": 2
}
