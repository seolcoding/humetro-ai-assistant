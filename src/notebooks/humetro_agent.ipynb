{
  "cells": [
    {
      "cell_type": "code",
      "execution_count": null,
      "metadata": {},
      "outputs": [],
      "source": [
        "import warnings\n",
        "import os\n",
        "import sys\n",
        "from dotenv import load_dotenv, find_dotenv\n",
        "sys.path.append('../..')\n",
        "_ = load_dotenv(find_dotenv())  # read local .env file\n",
        "\n",
        "warnings.filterwarnings(\"ignore\")"
      ]
    },
    {
      "cell_type": "code",
      "execution_count": 21,
      "metadata": {},
      "outputs": [],
      "source": [
        "import langchain\n",
        "from langchain.agents.agent_toolkits import create_conversational_retrieval_agent\n",
        "from langchain.agents import load_tools, initialize_agent, tool\n",
        "from langchain.agents import AgentType\n",
        "from langchain.chat_models import ChatOpenAI"
      ]
    },
    {
      "cell_type": "code",
      "execution_count": 22,
      "metadata": {},
      "outputs": [],
      "source": [
        "llm = ChatOpenAI(temperature=0, model='gpt-4o-mini', streaming=True)\n",
        "langchain.debug = True"
      ]
    },
    {
      "cell_type": "markdown",
      "metadata": {},
      "source": [
        "## Custom Tools\n"
      ]
    },
    {
      "cell_type": "markdown",
      "metadata": {},
      "source": [
        "### 열차 시간표 조회\n"
      ]
    },
    {
      "cell_type": "code",
      "execution_count": 23,
      "metadata": {},
      "outputs": [],
      "source": [
        "@tool\n",
        "def get_train_schedule(station_name: str = '하단') -> str:\n",
        "    \"\"\"Returns today's train schedule of the given station name.\n",
        "    Output is formatted as CSV\"\"\"\n",
        "    return \"\"\"\n",
        "    시간,분,행선지,\n",
        "    5, 4, 노포,\n",
        "    5, 20, 노포,\n",
        "    10, 20, 노포,\n",
        "    20,40,노포,\n",
        "    23,40,노포,\n",
        "    \"\"\""
      ]
    },
    {
      "cell_type": "markdown",
      "metadata": {},
      "source": [
        "### 역간 이동시간 조회\n"
      ]
    },
    {
      "cell_type": "code",
      "execution_count": 24,
      "metadata": {},
      "outputs": [],
      "source": [
        "@tool\n",
        "def get_estimated_time(from_station: str = '하단') -> str:\n",
        "    \"\"\"\n",
        "    Returns all estimated time from from_station.\n",
        "    \"\"\"\n",
        "    return '32분'"
      ]
    },
    {
      "cell_type": "markdown",
      "metadata": {},
      "source": [
        "### 역간 구간 조회\n"
      ]
    },
    {
      "cell_type": "code",
      "execution_count": 25,
      "metadata": {},
      "outputs": [],
      "source": [
        "@tool\n",
        "def get_distance_type(from_station: str = '하단') -> str:\n",
        "    \"\"\"\n",
        "    Returns all distance type from_station\n",
        "    \"\"\"\n",
        "    return '2구간'"
      ]
    },
    {
      "cell_type": "code",
      "execution_count": 47,
      "metadata": {},
      "outputs": [],
      "source": [
        "from duckduckgo_search import ddg\n",
        "\n",
        "\n",
        "@tool\n",
        "def ddg_search(query: str) -> str:\n",
        "    \"\"\"\n",
        "    When there is no relavant tools, use this tool to search online and retrieve relavant information\n",
        "    \"\"\"\n",
        "    query = \"site:http://www.humetro.busan.kr/homepage/default/ \" + query\n",
        "    searches = ddg(query, max_results=10)\n",
        "    links = set()\n",
        "    for search in searches:\n",
        "        link = search['href']\n",
        "        if \"www.humetro.busan.kr/default/main.do\" in link:\n",
        "            continue\n",
        "        if 'login.do' in link:\n",
        "            continue\n",
        "        links.add(link)\n",
        "    return '요금은 모두 삼천원입니다. 어린이 교통카드를 살 수 있습니다. 역사내에 편의점이 있습니다.'"
      ]
    },
    {
      "cell_type": "markdown",
      "metadata": {},
      "source": [
        "## 벡터 스토어\n"
      ]
    },
    {
      "cell_type": "code",
      "execution_count": 65,
      "metadata": {},
      "outputs": [],
      "source": [
        "from langchain.vectorstores import Chroma\n",
        "from langchain.document_loaders import NotionDirectoryLoader\n",
        "loader = NotionDirectoryLoader(\"./notion_db\")\n",
        "docs = loader.load()"
      ]
    },
    {
      "cell_type": "code",
      "execution_count": 67,
      "metadata": {},
      "outputs": [],
      "source": [
        "from langchain.text_splitter import MarkdownHeaderTextSplitter\n",
        "splitter = MarkdownHeaderTextSplitter(\n",
        "    headers_to_split_on=[\n",
        "        (\"#\", \"Header 1\"),\n",
        "        (\"##\", \"Header 2\"),\n",
        "        (\"###\", \"Header 3\"),\n",
        "    ]\n",
        ")\n",
        "splitted_docs = splitter.split_text(docs[0].page_content)"
      ]
    },
    {
      "cell_type": "code",
      "execution_count": 68,
      "metadata": {},
      "outputs": [],
      "source": [
        "from langchain.text_splitter import RecursiveCharacterTextSplitter\n",
        "\n",
        "chunk_size = 2000\n",
        "chunk_overlap = 200\n",
        "text_splitter = RecursiveCharacterTextSplitter(\n",
        "    chunk_size=chunk_size,\n",
        "    chunk_overlap=chunk_overlap)\n",
        "splits = text_splitter.split_documents(splitted_docs)"
      ]
    },
    {
      "cell_type": "code",
      "execution_count": 73,
      "metadata": {},
      "outputs": [],
      "source": [
        "!rm -rf ./chroma"
      ]
    },
    {
      "cell_type": "code",
      "execution_count": 75,
      "metadata": {},
      "outputs": [],
      "source": [
        "from langchain.embeddings import OpenAIEmbeddings\n",
        "from langchain.memory import ConversationBufferMemory\n",
        "\n",
        "vector_db = Chroma.from_documents(\n",
        "    documents=splits,\n",
        "    embedding=OpenAIEmbeddings(),\n",
        "    persist_directory='chroma'\n",
        ")\n",
        "memory = ConversationBufferMemory(memory_key=\"chat_history\")"
      ]
    },
    {
      "cell_type": "code",
      "execution_count": 77,
      "metadata": {},
      "outputs": [
        {
          "data": {
            "text/plain": [
              "[Document(page_content='기본가격 및 사이즈  \\n| 구분 | 소 | 중 | 대 | 특대 |\\n| --- | --- | --- | --- | --- |\\n| 기본가격(원) | 2,000 | 3,000 | 4,000 | 5,000 |\\n| 구형 사이즈(cm) | 30×42×55 | 40×42×55 | 50×42×55 | 60×42×55 |\\n| 신형 사이즈(cm) | 37×27×55 | 37×37×55 | 37×57×55 | 37×87×55 |  \\n**추가요금**  \\n- 구형: 현금만 가능\\n- 신형: 현금·카드 가능\\n- 1호선 신형 물품보관함 설치 역사 : 자갈치, 남포, 부산, 범내골, 서면, 시청, 연산, 동래, 부산대\\n- 당일 자정(24:00이후) 요금(소 2,000원/ 중 3,000원/ 대 5,000원)이 추가되며 추후에 물품을 찾을 때 납부\\n- 예) 23:50분에 소형 물품보관함 사용 시 기본 2,000원에 24:00시를 기하여 2,000원이 추가되어 4,000원이 됩니다  \\n| 구분 | 기본 요금 | 추가 반복 요금1 (4시간 이후 12시간까지 1시간마다 반복 추가 과금) | 추가 반복 요금2 (12시간 이후 12시간마다 반복 추가 과금) |\\n| --- | --- | --- | --- |\\n| 소형 | 2,000 | +300 | +2,000 |\\n| 중형 | 3,000 | +400 | +3,000 |\\n| 대형 | 4,000 | +500 | +4,000 |\\n| 특대형 | 5,000 | +600 |  |  \\n**역별 물품보관함 현황**  \\n| 역명 | 소 | 중 | 대 | 특대 |\\n| --- | --- | --- | --- | --- |\\n| 다대포해수욕장 | 10 | 8 | 4 |  |\\n| 다대포항 | 10 | 8 | 2 |  |\\n| 동매 | 10 | 8 | 2 |  |\\n| 하단 | 10 | 16 | 4 |  |\\n| 괴정 | 10 | 8 | 4 |  |\\n| 동대신 | 10 | 4 | 2 |  |\\n| 토성 | 10 | 8 | 4 |  |\\n| 자갈치 | 34 | 42 | 4 | 27 |\\n| 남포 | 33 | 45 | 42 |  |\\n| 중앙 | 10 | 16 | 4 |  |\\n| 부산 | 18 | 52 | 6 | 36 |\\n| 초량 | 10 | 8 | 4 |  |\\n| 부산진 | 10 | 8 | 4 |  |\\n| 범일 | 10 | 16 | 4 |  |\\n| 범내골 | 6 | 8 | 4 |  |\\n| 서면(1) | 36 | 60 | 12 | 34 |\\n| 부전 | 10 | 12 | 4 |  |\\n| 양정 | 10 | 8 | 2 |  |\\n| 시청 | 6 | 10 | 3 |  |\\n| 연산(1) | 6 | 14 | 5 |  |\\n| 동래(1) | 9 | 14 | 6 |  |\\n| 명륜 | 10 | 8 | 2 |  |\\n| 온천장 | 10 | 8 | 4 |  |\\n| 부산대 | 12 | 26 | 9 |  |\\n| 장전 | 10 | 8 | 2 |  |\\n| 남산 | 10 | 8 | 2 |  |\\n| 노포 | 10 | 8 | 2 |  |\\n| 계 | 340 | 439 | 122 | 222 |  \\n1호선 물품보관함 위탁운영업체: 위드락카(051-440-2100)', metadata={'Header 1': 'STEPⅠ 역무일반', 'Header 2': 'CHAPTER2 고객서비스', 'Header 3': '6강 물품보관함 관련'}),\n",
              " Document(page_content='<aside>\\n💡 일타역무 교재 (민원응대만 발췌), 역무실무 교재, SQI 조사 질의답변, 고객서비스 로드맵(2022)  \\n</aside>', metadata={'Header 1': '위키'}),\n",
              " Document(page_content='- 행사장소 : 도시철도 전 역사 내 시설(소방 관련시설, 임대매장 등) 및 고객의\\n동선에 지장을 주지 않는 범위내의 모든 장소\\n- 승인대상 : 공공기관 및 비영리 법인단체, 학교, 상업성이 없는 개인 등\\n- 승인분야 : 공연,전시,건강검진,체험행사,캠페인 등 비영리, 공익성 문화행사\\n- 승인가능행사\\n- 개인 또는 단체의 건전한 취미활동 행사\\n- 공익성 및 공공성이 포함된 홍보 캠페인\\n- 지역주민과의 유대를 강화 할 수 있는 행사\\n- 학교의 동아리 활동 등 비상업적인 행사\\n- 기타 공사에서 승인한 행사\\n- 승인 불가 행사\\n- 영리를 목적으로 하는 모든 행사\\n- 홍보캠페인을 빙자한 회원 모집 행사\\n- 사기업의 영업행위 및 홍보활동(회원모집, 물품증정 등)\\n- 모금 및 상행위 등 활동(단 공사에서 승인한 행사는 제외)\\n- 이용객에게 불편 및 불쾌감을 주는 행사(지나친 소음발생, 다수의 민원발생\\n행위 등)\\n- 안전사고의 우려가 있는 행사\\n- 선교를 목적으로 하는 종교 관련 행사\\n- 사회적 이슈가 되는 캠페인 관련 행사\\n- 신청기한 :\\n- 행사일 10일전까지,1개월 이내의 행사만 신청가능\\n- 캠페인은 역당 1개월내 5일 초과 불가, 동일행사 경우 2개역까지 신청 가능\\n- 승인절차\\n- 문화행사(홈페이지) 신청 → 적합성 심사 → 승인 및 불가 → 행사진행\\n- 서면역,연산역,미남역 공연행사는 잠정 중단(실내 공연 재개 보류)\\n- 행사일정은 협의조정 후 홐페이지의 공영일정 안내에 게시', metadata={'Header 1': 'STEPⅠ 역무일반', 'Header 2': 'CHAPTER2 고객서비스', 'Header 3': '9강 역사 내 문화행사 신청'}),\n",
              " Document(page_content='| 사직 | 05:38 | 05:36 | 00:02 | 00:14 |\\n| 미남 | 05:36 | 05:37 | 00:00 | 00:16 |\\n| 만덕 | 05:32 | 05:42 | 23:56 | 00:21 |\\n| 남산정 | 05:30 | 05:44 | 23:54 | 00:23 |\\n| 숙등 | 05:28 | 05:46 | 23:52 | 00:25 |\\n| 덕천 | 05:24 | 05:47 | 23:48 | 00:26 |\\n| 구포 | 05:21 | 05:50 | 23:45 | 00:32 |\\n| 강서구청 | 05:19 | 05:52 | 23:43 | 00:34 |\\n| 체육공원 | 05:17 | 05:54 | 23:41 | 00:36 |\\n| 대저 | 05:16 |  | 23:40 |  |\\n| 미남 |  | 05:40 |  | 00:20 |\\n| 동래 | 05:31 | 05:42 | 00:06 | 00:22 |\\n| 수안 | 05:29 | 05:44 | 00:05 | 00:24 |\\n| 낙민 | 05:27 | 05:45 | 00:03 | 00:25 |\\n| 충렬사 | 05:25 | 05:47 | 00:01 | 00:27 |\\n| 명장 | 05:23 | 05:49 | 00:00 | 00:28 |\\n| 서동 | 05:21 | 05:51 | 23:57 | 00:31 |\\n| 금사 | 05:19 | 05:53 | 23:55 | 00:32 |\\n| 반여 | 05:17 | 05:54 | 23:54 | 00:34 |\\n| 석대 | 05:15 | 05:56 | 23:52 | 00:36 |\\n| 영산대 | 05:12 | 05:59 | 23:49 | 00:38 |\\n| 윗반송 | 05:09 | 06:01 | 23:47 | 00:41 |\\n| 고촌 | 05:07 | 06:03 | 23:45 | 00:42 |\\n| 안평 | 05:05 |  | 23:44 |  |', metadata={'Header 1': 'STEPⅠ 역무일반', 'Header 2': 'CHAPTER1 여객운송관리', 'Header 3': '5강 첫차 막차'})]"
            ]
          },
          "execution_count": 77,
          "metadata": {},
          "output_type": "execute_result"
        }
      ],
      "source": [
        "vector_db.max_marginal_relevance_search('화장실이 어디인가요')"
      ]
    },
    {
      "cell_type": "markdown",
      "metadata": {},
      "source": [
        "## Agent\n"
      ]
    },
    {
      "cell_type": "code",
      "execution_count": 49,
      "metadata": {},
      "outputs": [],
      "source": [
        "agent = initialize_agent(\n",
        "    tools=[get_train_schedule, get_estimated_time,\n",
        "           get_distance_type, ddg_search],\n",
        "    llm=llm,\n",
        "    agent=AgentType.ZERO_SHOT_REACT_DESCRIPTION,\n",
        "    handle_parsing_error=True,\n",
        "    verbose=True,\n",
        "    memory=memory,\n",
        ")"
      ]
    },
    {
      "cell_type": "code",
      "execution_count": 50,
      "metadata": {},
      "outputs": [
        {
          "name": "stdout",
          "output_type": "stream",
          "text": [
            "\u001b[32;1m\u001b[1;3m[chain/start]\u001b[0m \u001b[1m[1:chain:AgentExecutor] Entering Chain run with input:\n",
            "\u001b[0m{\n",
            "  \"input\": \"역사 내 편의점이 있나요?\",\n",
            "  \"chat_history\": \"\"\n",
            "}\n",
            "\u001b[32;1m\u001b[1;3m[chain/start]\u001b[0m \u001b[1m[1:chain:AgentExecutor > 2:chain:LLMChain] Entering Chain run with input:\n",
            "\u001b[0m{\n",
            "  \"input\": \"역사 내 편의점이 있나요?\",\n",
            "  \"chat_history\": \"\",\n",
            "  \"agent_scratchpad\": \"\",\n",
            "  \"stop\": [\n",
            "    \"\\nObservation:\",\n",
            "    \"\\n\\tObservation:\"\n",
            "  ]\n",
            "}\n",
            "\u001b[32;1m\u001b[1;3m[llm/start]\u001b[0m \u001b[1m[1:chain:AgentExecutor > 2:chain:LLMChain > 3:llm:ChatOpenAI] Entering LLM run with input:\n",
            "\u001b[0m{\n",
            "  \"prompts\": [\n",
            "    \"Human: Answer the following questions as best you can. You have access to the following tools:\\n\\nget_train_schedule: get_train_schedule(station_name: str = '하단') -> str - Returns today's train schedule of the given station name.\\n    Output is formatted as CSV\\nget_estimated_time: get_estimated_time(from_station: str = '하단') -> str - Returns all estimated time from from_station.\\nget_distance_type: get_distance_type(from_station: str = '하단') -> str - Returns all distance type from_station\\nddg_search: ddg_search(query: str) -> str - When there is relavant tools, use this tool to search online and retrieve relavant information\\n\\nUse the following format:\\n\\nQuestion: the input question you must answer\\nThought: you should always think about what to do\\nAction: the action to take, should be one of [get_train_schedule, get_estimated_time, get_distance_type, ddg_search]\\nAction Input: the input to the action\\nObservation: the result of the action\\n... (this Thought/Action/Action Input/Observation can repeat N times)\\nThought: I now know the final answer\\nFinal Answer: the final answer to the original input question\\n\\nBegin!\\n\\nQuestion: 역사 내 편의점이 있나요?\\nThought:\"\n",
            "  ]\n",
            "}\n",
            "\u001b[36;1m\u001b[1;3m[llm/end]\u001b[0m \u001b[1m[1:chain:AgentExecutor > 2:chain:LLMChain > 3:llm:ChatOpenAI] [1.57s] Exiting LLM run with output:\n",
            "\u001b[0m{\n",
            "  \"generations\": [\n",
            "    [\n",
            "      {\n",
            "        \"text\": \"I need to find out if there is a convenience store in the station.\\nAction: ddg_search\\nAction Input: \\\"역사 내 편의점\\\"\",\n",
            "        \"generation_info\": {\n",
            "          \"finish_reason\": \"stop\"\n",
            "        },\n",
            "        \"message\": {\n",
            "          \"lc\": 1,\n",
            "          \"type\": \"constructor\",\n",
            "          \"id\": [\n",
            "            \"langchain\",\n",
            "            \"schema\",\n",
            "            \"messages\",\n",
            "            \"AIMessageChunk\"\n",
            "          ],\n",
            "          \"kwargs\": {\n",
            "            \"example\": false,\n",
            "            \"content\": \"I need to find out if there is a convenience store in the station.\\nAction: ddg_search\\nAction Input: \\\"역사 내 편의점\\\"\",\n",
            "            \"additional_kwargs\": {}\n",
            "          }\n",
            "        }\n",
            "      }\n",
            "    ]\n",
            "  ],\n",
            "  \"llm_output\": null,\n",
            "  \"run\": null\n",
            "}\n",
            "\u001b[36;1m\u001b[1;3m[chain/end]\u001b[0m \u001b[1m[1:chain:AgentExecutor > 2:chain:LLMChain] [1.57s] Exiting Chain run with output:\n",
            "\u001b[0m{\n",
            "  \"text\": \"I need to find out if there is a convenience store in the station.\\nAction: ddg_search\\nAction Input: \\\"역사 내 편의점\\\"\"\n",
            "}\n",
            "\u001b[32;1m\u001b[1;3m[tool/start]\u001b[0m \u001b[1m[1:chain:AgentExecutor > 4:tool:ddg_search] Entering Tool run with input:\n",
            "\u001b[0m\"역사 내 편의점\"\n"
          ]
        },
        {
          "name": "stderr",
          "output_type": "stream",
          "text": [
            "/Users/sdh/anaconda3/envs/haa/lib/python3.10/site-packages/duckduckgo_search/compat.py:13: UserWarning: ddg is deprecated. Use DDGS().text() generator\n",
            "  warnings.warn(\"ddg is deprecated. Use DDGS().text() generator\")\n"
          ]
        },
        {
          "name": "stdout",
          "output_type": "stream",
          "text": [
            "\u001b[36;1m\u001b[1;3m[tool/end]\u001b[0m \u001b[1m[1:chain:AgentExecutor > 4:tool:ddg_search] [2.09s] Exiting Tool run with output:\n",
            "\u001b[0m\"요금은 모두 삼천원입니다. 어린이 교통카드를 살 수 있습니다. 역사내에 편의점이 있습니다.\"\n",
            "\u001b[32;1m\u001b[1;3m[chain/start]\u001b[0m \u001b[1m[1:chain:AgentExecutor > 5:chain:LLMChain] Entering Chain run with input:\n",
            "\u001b[0m{\n",
            "  \"input\": \"역사 내 편의점이 있나요?\",\n",
            "  \"chat_history\": \"\",\n",
            "  \"agent_scratchpad\": \"I need to find out if there is a convenience store in the station.\\nAction: ddg_search\\nAction Input: \\\"역사 내 편의점\\\"\\nObservation: 요금은 모두 삼천원입니다. 어린이 교통카드를 살 수 있습니다. 역사내에 편의점이 있습니다.\\nThought:\",\n",
            "  \"stop\": [\n",
            "    \"\\nObservation:\",\n",
            "    \"\\n\\tObservation:\"\n",
            "  ]\n",
            "}\n",
            "\u001b[32;1m\u001b[1;3m[llm/start]\u001b[0m \u001b[1m[1:chain:AgentExecutor > 5:chain:LLMChain > 6:llm:ChatOpenAI] Entering LLM run with input:\n",
            "\u001b[0m{\n",
            "  \"prompts\": [\n",
            "    \"Human: Answer the following questions as best you can. You have access to the following tools:\\n\\nget_train_schedule: get_train_schedule(station_name: str = '하단') -> str - Returns today's train schedule of the given station name.\\n    Output is formatted as CSV\\nget_estimated_time: get_estimated_time(from_station: str = '하단') -> str - Returns all estimated time from from_station.\\nget_distance_type: get_distance_type(from_station: str = '하단') -> str - Returns all distance type from_station\\nddg_search: ddg_search(query: str) -> str - When there is relavant tools, use this tool to search online and retrieve relavant information\\n\\nUse the following format:\\n\\nQuestion: the input question you must answer\\nThought: you should always think about what to do\\nAction: the action to take, should be one of [get_train_schedule, get_estimated_time, get_distance_type, ddg_search]\\nAction Input: the input to the action\\nObservation: the result of the action\\n... (this Thought/Action/Action Input/Observation can repeat N times)\\nThought: I now know the final answer\\nFinal Answer: the final answer to the original input question\\n\\nBegin!\\n\\nQuestion: 역사 내 편의점이 있나요?\\nThought:I need to find out if there is a convenience store in the station.\\nAction: ddg_search\\nAction Input: \\\"역사 내 편의점\\\"\\nObservation: 요금은 모두 삼천원입니다. 어린이 교통카드를 살 수 있습니다. 역사내에 편의점이 있습니다.\\nThought:\"\n",
            "  ]\n",
            "}\n",
            "\u001b[36;1m\u001b[1;3m[llm/end]\u001b[0m \u001b[1m[1:chain:AgentExecutor > 5:chain:LLMChain > 6:llm:ChatOpenAI] [1.36s] Exiting LLM run with output:\n",
            "\u001b[0m{\n",
            "  \"generations\": [\n",
            "    [\n",
            "      {\n",
            "        \"text\": \"I found information that there is a convenience store in the station.\\nFinal Answer: Yes, there is a convenience store in the station.\",\n",
            "        \"generation_info\": {\n",
            "          \"finish_reason\": \"stop\"\n",
            "        },\n",
            "        \"message\": {\n",
            "          \"lc\": 1,\n",
            "          \"type\": \"constructor\",\n",
            "          \"id\": [\n",
            "            \"langchain\",\n",
            "            \"schema\",\n",
            "            \"messages\",\n",
            "            \"AIMessageChunk\"\n",
            "          ],\n",
            "          \"kwargs\": {\n",
            "            \"example\": false,\n",
            "            \"content\": \"I found information that there is a convenience store in the station.\\nFinal Answer: Yes, there is a convenience store in the station.\",\n",
            "            \"additional_kwargs\": {}\n",
            "          }\n",
            "        }\n",
            "      }\n",
            "    ]\n",
            "  ],\n",
            "  \"llm_output\": null,\n",
            "  \"run\": null\n",
            "}\n",
            "\u001b[36;1m\u001b[1;3m[chain/end]\u001b[0m \u001b[1m[1:chain:AgentExecutor > 5:chain:LLMChain] [1.37s] Exiting Chain run with output:\n",
            "\u001b[0m{\n",
            "  \"text\": \"I found information that there is a convenience store in the station.\\nFinal Answer: Yes, there is a convenience store in the station.\"\n",
            "}\n",
            "\u001b[36;1m\u001b[1;3m[chain/end]\u001b[0m \u001b[1m[1:chain:AgentExecutor] [5.03s] Exiting Chain run with output:\n",
            "\u001b[0m{\n",
            "  \"output\": \"Yes, there is a convenience store in the station.\"\n",
            "}\n"
          ]
        }
      ],
      "source": [
        "result = agent.run('역사 내 편의점이 있나요?')"
      ]
    },
    {
      "cell_type": "code",
      "execution_count": 52,
      "metadata": {},
      "outputs": [
        {
          "name": "stdout",
          "output_type": "stream",
          "text": [
            "Yes, there is a convenience store in the station.\n"
          ]
        }
      ],
      "source": [
        "print(result)"
      ]
    },
    {
      "cell_type": "code",
      "execution_count": null,
      "metadata": {},
      "outputs": [],
      "source": []
    }
  ],
  "metadata": {
    "kernelspec": {
      "display_name": "haa",
      "language": "python",
      "name": "python3"
    },
    "language_info": {
      "codemirror_mode": {
        "name": "ipython",
        "version": 3
      },
      "file_extension": ".py",
      "mimetype": "text/x-python",
      "name": "python",
      "nbconvert_exporter": "python",
      "pygments_lexer": "ipython3",
      "version": "3.10.13"
    }
  },
  "nbformat": 4,
  "nbformat_minor": 2
}
